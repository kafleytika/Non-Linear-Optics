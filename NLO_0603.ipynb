{
 "cells": [
  {
   "cell_type": "code",
   "execution_count": 1,
   "metadata": {},
   "outputs": [],
   "source": [
    "import matplotlib.pyplot as plt\n",
    "%matplotlib inline\n",
    "import numpy as np\n",
    "import math as math\n"
   ]
  },
  {
   "cell_type": "code",
   "execution_count": 2,
   "metadata": {},
   "outputs": [],
   "source": [
    "def Intensity(I0, alphaZ, L):\n",
    "    import numpy as np\n",
    "    import math as math\n",
    "    N = len(aplhaZ)\n",
    "    deltaZ = L/N\n",
    "    Intensity = np.zeros(N+1)\n",
    "    thickness = np.zeros(N+1)\n",
    "\n",
    "    Intensity[0] = I0\n",
    "    thickness[0] = 0.\n",
    "    for i in range  (0, N):\n",
    "        thickness[i+1] = thickness[i]+deltaZ \n",
    "        Intensity[i+1] = (math.exp(-1.*alpha(i)*deltaZ)*Intenisty[i])\n",
    "        alpha = zeros(1000)\n",
    "\n",
    "        alpha[i] = 0.5+sin(6.*pi*i/1000.)\n",
    "    return thickness, Intensity(1.,alpha, 6.*pi)\n",
    "    print (thickness, Intensity)\n",
    "    plt.plot(thickness, Intensity)\n",
    "    plt.plot(show)\n",
    "    \n",
    "   \n",
    "   "
   ]
  }
 ],
 "metadata": {
  "kernelspec": {
   "display_name": "Python 3",
   "language": "python",
   "name": "python3"
  },
  "language_info": {
   "codemirror_mode": {
    "name": "ipython",
    "version": 3
   },
   "file_extension": ".py",
   "mimetype": "text/x-python",
   "name": "python",
   "nbconvert_exporter": "python",
   "pygments_lexer": "ipython3",
   "version": "3.7.3"
  }
 },
 "nbformat": 4,
 "nbformat_minor": 2
}
